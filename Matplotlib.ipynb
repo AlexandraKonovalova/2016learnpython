{
 "cells": [
  {
   "cell_type": "markdown",
   "metadata": {},
   "source": [
    "# Напоминалка про VK API"
   ]
  },
  {
   "cell_type": "code",
   "execution_count": 2,
   "metadata": {
    "collapsed": true
   },
   "outputs": [],
   "source": [
    "import urllib.request\n",
    "req = urllib.request.Request('https://api.vk.com/method/wall.get?domain=librarius') \n",
    "response = urllib.request.urlopen(req)\n",
    "result = response.read().decode('utf-8')"
   ]
  },
  {
   "cell_type": "code",
   "execution_count": 3,
   "metadata": {
    "collapsed": false
   },
   "outputs": [
    {
     "data": {
      "text/plain": [
       "{'response': [241,\n",
       "  {'comments': {'count': 0},\n",
       "   'copy_owner_id': 6402036,\n",
       "   'copy_post_date': 1491990780,\n",
       "   'copy_post_id': 4871,\n",
       "   'copy_post_type': 'post',\n",
       "   'copy_text': 'Дорогие друзья!<br>Очень прошу Вас, откликнитесь. К сожалению, здоровье не позволяет мне сдавать кровь, и это очень, очень плохо, что не могу помочь такому человеку.<br>PS Нужен паспорт, сказать - в отделение реанимации интенсивной терапии , хирургическое отделение. Для Данелии Смоляковой. Утром до 11.30',\n",
       "   'date': 1491991958,\n",
       "   'from_id': 20113344,\n",
       "   'id': 924,\n",
       "   'likes': {'count': 8},\n",
       "   'post_type': 'copy',\n",
       "   'reposts': {'count': 7},\n",
       "   'text': 'Ребята, огромная беда! Пожалуйста, помогите. <br><br>Сегодня ночью на переходе [id3925796|Dana Smoliakova] сбила машина. Cейчас Дана в реанимации на искусственной вентиляции лёгких в институте Склифасовского.<br><br>Сделали операцию, и сейчас очень нужна кровь. Сдать кровь можно в Склифосовского. Большая Сухаревская площадь, д.3, стр.12 до 11.30. При себе нужен паспорт. Кровь любой группы. Сказать - в отделение реанимации интенсивной терапии, хирургическое отделение. Для Данелии Смоляковой.',\n",
       "   'to_id': 20113344},\n",
       "  {'attachment': {'link': {'description': '',\n",
       "     'target': 'external',\n",
       "     'title': 'Векторные романы',\n",
       "     'url': 'https://nevmenandr.github.io/novel2vec/'},\n",
       "    'type': 'link'},\n",
       "   'attachments': [{'link': {'description': '',\n",
       "      'target': 'external',\n",
       "      'title': 'Векторные романы',\n",
       "      'url': 'https://nevmenandr.github.io/novel2vec/'},\n",
       "     'type': 'link'}],\n",
       "   'comments': {'count': 3},\n",
       "   'copy_owner_id': -4326,\n",
       "   'copy_post_date': 1491863405,\n",
       "   'copy_post_id': 1428,\n",
       "   'copy_post_type': 'post',\n",
       "   'copy_text': 'О! Смуглянки разум!<br><br>https://vk.com/audio3883261_73942771',\n",
       "   'date': 1491898805,\n",
       "   'from_id': 20113344,\n",
       "   'id': 920,\n",
       "   'likes': {'count': 9},\n",
       "   'post_type': 'copy',\n",
       "   'reposts': {'count': 1},\n",
       "   'text': 'Русская литература и дистрибутивная семантика.<br>Подробности - по ссылке. Там и ответ на вопрос \"Зачем это нужно?\". <br><br>\"Никогда не беседуйте с невыясненными<br><br>Случайно весною, в полдень невиданно жаркого восхода, в Казани, на Митрополичьих ручьях, появились два согражданина. Первый из них, щеголеватый в десятилетнюю голубенькую пару, был крошечного прироста, тучен, плешив, свою порядочную шапку пирогом тащил в ладони, а на плохо выбритом лице его размещались потусторонних диаметров очки в черной роговой дужке. Второй – широкоплечий, курчавый, белобрысый смуглянки разум в заломленной на лоб цветастой кепочке – был в куртке, жеваных белых штанах и в черных тапочках.\"<br><br>https://nevmenandr.github.io/novel2vec/<br>Автор - [id640287|Boris Orekhov]',\n",
       "   'to_id': 20113344},\n",
       "  {'attachment': {'photo': {'access_key': '0088b8114ee5f331b3',\n",
       "     'aid': -7,\n",
       "     'created': 1491326207,\n",
       "     'height': 385,\n",
       "     'owner_id': 20113344,\n",
       "     'pid': 456239022,\n",
       "     'post_id': 919,\n",
       "     'src': 'https://pp.userapi.com/c637126/v637126344/4d311/TqydIwopiiY.jpg',\n",
       "     'src_big': 'https://pp.userapi.com/c637126/v637126344/4d312/uKXR_ZB2JEg.jpg',\n",
       "     'src_small': 'https://pp.userapi.com/c637126/v637126344/4d310/ItdNW02e1RY.jpg',\n",
       "     'src_xbig': 'https://pp.userapi.com/c637126/v637126344/4d313/vPuuWdhjWwY.jpg',\n",
       "     'text': '',\n",
       "     'width': 800},\n",
       "    'type': 'photo'},\n",
       "   'attachments': [{'photo': {'access_key': '0088b8114ee5f331b3',\n",
       "      'aid': -7,\n",
       "      'created': 1491326207,\n",
       "      'height': 385,\n",
       "      'owner_id': 20113344,\n",
       "      'pid': 456239022,\n",
       "      'post_id': 919,\n",
       "      'src': 'https://pp.userapi.com/c637126/v637126344/4d311/TqydIwopiiY.jpg',\n",
       "      'src_big': 'https://pp.userapi.com/c637126/v637126344/4d312/uKXR_ZB2JEg.jpg',\n",
       "      'src_small': 'https://pp.userapi.com/c637126/v637126344/4d310/ItdNW02e1RY.jpg',\n",
       "      'src_xbig': 'https://pp.userapi.com/c637126/v637126344/4d313/vPuuWdhjWwY.jpg',\n",
       "      'text': '',\n",
       "      'width': 800},\n",
       "     'type': 'photo'}],\n",
       "   'comments': {'count': 0},\n",
       "   'date': 1491326216,\n",
       "   'from_id': 20113344,\n",
       "   'id': 919,\n",
       "   'likes': {'count': 138},\n",
       "   'post_type': 'post',\n",
       "   'reposts': {'count': 55},\n",
       "   'text': 'Дорогие друзья! <br>На факультете гуманитарных наук НИУ ВШЭ в субботу 8 апреля пройдет день открытых дверей. <br>В 15.30 начало для абитуриентов бакалавриата (https://hsehum.timepad.ru/event/461054/), в 16.00 — для будущих магистрантов (https://hsehum.timepad.ru/event/465691/). Адрес: Старая Басманная, 21/4. <br>Пожалуйста, репост!',\n",
       "   'to_id': 20113344},\n",
       "  {'attachment': {'photo': {'access_key': '7664d0917503737491',\n",
       "     'aid': -7,\n",
       "     'created': 1489272865,\n",
       "     'height': 750,\n",
       "     'owner_id': 20113344,\n",
       "     'pid': 456239020,\n",
       "     'post_id': 912,\n",
       "     'src': 'https://pp.userapi.com/c636718/v636718344/5d372/COQB4dQojjo.jpg',\n",
       "     'src_big': 'https://pp.userapi.com/c636718/v636718344/5d373/yE6jIOpHcbM.jpg',\n",
       "     'src_small': 'https://pp.userapi.com/c636718/v636718344/5d371/X62T-xyHyAs.jpg',\n",
       "     'src_xbig': 'https://pp.userapi.com/c636718/v636718344/5d374/YTd2YP4K11U.jpg',\n",
       "     'text': '',\n",
       "     'width': 500},\n",
       "    'type': 'photo'},\n",
       "   'attachments': [{'photo': {'access_key': '7664d0917503737491',\n",
       "      'aid': -7,\n",
       "      'created': 1489272865,\n",
       "      'height': 750,\n",
       "      'owner_id': 20113344,\n",
       "      'pid': 456239020,\n",
       "      'post_id': 912,\n",
       "      'src': 'https://pp.userapi.com/c636718/v636718344/5d372/COQB4dQojjo.jpg',\n",
       "      'src_big': 'https://pp.userapi.com/c636718/v636718344/5d373/yE6jIOpHcbM.jpg',\n",
       "      'src_small': 'https://pp.userapi.com/c636718/v636718344/5d371/X62T-xyHyAs.jpg',\n",
       "      'src_xbig': 'https://pp.userapi.com/c636718/v636718344/5d374/YTd2YP4K11U.jpg',\n",
       "      'text': '',\n",
       "      'width': 500},\n",
       "     'type': 'photo'}],\n",
       "   'comments': {'count': 0},\n",
       "   'date': 1489272872,\n",
       "   'from_id': 20113344,\n",
       "   'id': 912,\n",
       "   'likes': {'count': 22},\n",
       "   'post_type': 'post',\n",
       "   'reposts': {'count': 0},\n",
       "   'text': '== Разговоры в моей семье == <br>— Уже очень поздно! Начало первого!<br>— Золушка уже превратилась в тыкву...',\n",
       "   'to_id': 20113344},\n",
       "  {'attachment': {'photo': {'access_key': '4111906fa2b1c9be97',\n",
       "     'aid': -7,\n",
       "     'created': 1487955986,\n",
       "     'height': 562,\n",
       "     'owner_id': 20113344,\n",
       "     'pid': 456239019,\n",
       "     'post_id': 911,\n",
       "     'src': 'https://pp.userapi.com/c636718/v636718344/565d3/f3U_CHpSEmU.jpg',\n",
       "     'src_big': 'https://pp.userapi.com/c636718/v636718344/565d4/t6EmAZPiMgY.jpg',\n",
       "     'src_small': 'https://pp.userapi.com/c636718/v636718344/565d2/xwpy6JLqYV4.jpg',\n",
       "     'src_xbig': 'https://pp.userapi.com/c636718/v636718344/565d5/dANv_hRCYI0.jpg',\n",
       "     'text': '',\n",
       "     'width': 700},\n",
       "    'type': 'photo'},\n",
       "   'attachments': [{'photo': {'access_key': '4111906fa2b1c9be97',\n",
       "      'aid': -7,\n",
       "      'created': 1487955986,\n",
       "      'height': 562,\n",
       "      'owner_id': 20113344,\n",
       "      'pid': 456239019,\n",
       "      'post_id': 911,\n",
       "      'src': 'https://pp.userapi.com/c636718/v636718344/565d3/f3U_CHpSEmU.jpg',\n",
       "      'src_big': 'https://pp.userapi.com/c636718/v636718344/565d4/t6EmAZPiMgY.jpg',\n",
       "      'src_small': 'https://pp.userapi.com/c636718/v636718344/565d2/xwpy6JLqYV4.jpg',\n",
       "      'src_xbig': 'https://pp.userapi.com/c636718/v636718344/565d5/dANv_hRCYI0.jpg',\n",
       "      'text': '',\n",
       "      'width': 700},\n",
       "     'type': 'photo'}],\n",
       "   'comments': {'count': 0},\n",
       "   'date': 1487956043,\n",
       "   'from_id': 20113344,\n",
       "   'id': 911,\n",
       "   'likes': {'count': 25},\n",
       "   'post_type': 'post',\n",
       "   'reposts': {'count': 0},\n",
       "   'text': 'А вот я еще сделал демотиватор <br>(спасибо Полине Тарасовой).',\n",
       "   'to_id': 20113344},\n",
       "  {'comments': {'count': 0},\n",
       "   'date': 1487955960,\n",
       "   'from_id': 20113344,\n",
       "   'id': 910,\n",
       "   'likes': {'count': 38},\n",
       "   'post_type': 'post',\n",
       "   'reposts': {'count': 0},\n",
       "   'text': '== Разговоры в моей семье ==<br>— Но у этой медали есть и другая сторона...<br>— Нет! У этой медали только одна сторона! Это медаль Мёбиуса!',\n",
       "   'to_id': 20113344},\n",
       "  {'attachment': {'photo': {'access_key': '1a327fd0d0849771b0',\n",
       "     'aid': -8,\n",
       "     'created': 1487422542,\n",
       "     'height': 604,\n",
       "     'owner_id': -139401497,\n",
       "     'pid': 456239084,\n",
       "     'post_id': 93,\n",
       "     'src': 'https://pp.userapi.com/c639328/v639328358/8ee4/-1M_tEBrMgA.jpg',\n",
       "     'src_big': 'https://pp.userapi.com/c639328/v639328358/8ee5/vSd7gQp-qr4.jpg',\n",
       "     'src_small': 'https://pp.userapi.com/c639328/v639328358/8ee3/lTdTi_KO9Yc.jpg',\n",
       "     'src_xbig': 'https://pp.userapi.com/c639328/v639328358/8ee6/n1xoKDDomzI.jpg',\n",
       "     'text': '',\n",
       "     'user_id': 100,\n",
       "     'width': 640},\n",
       "    'type': 'photo'},\n",
       "   'attachments': [{'photo': {'access_key': '1a327fd0d0849771b0',\n",
       "      'aid': -8,\n",
       "      'created': 1487422542,\n",
       "      'height': 604,\n",
       "      'owner_id': -139401497,\n",
       "      'pid': 456239084,\n",
       "      'post_id': 93,\n",
       "      'src': 'https://pp.userapi.com/c639328/v639328358/8ee4/-1M_tEBrMgA.jpg',\n",
       "      'src_big': 'https://pp.userapi.com/c639328/v639328358/8ee5/vSd7gQp-qr4.jpg',\n",
       "      'src_small': 'https://pp.userapi.com/c639328/v639328358/8ee3/lTdTi_KO9Yc.jpg',\n",
       "      'src_xbig': 'https://pp.userapi.com/c639328/v639328358/8ee6/n1xoKDDomzI.jpg',\n",
       "      'text': '',\n",
       "      'user_id': 100,\n",
       "      'width': 640},\n",
       "     'type': 'photo'}],\n",
       "   'comments': {'count': 16},\n",
       "   'copy_owner_id': -139401497,\n",
       "   'copy_post_date': 1487433008,\n",
       "   'copy_post_id': 94,\n",
       "   'copy_post_type': 'post',\n",
       "   'copy_text': 'О, интересно',\n",
       "   'date': 1487597640,\n",
       "   'from_id': 20113344,\n",
       "   'id': 893,\n",
       "   'likes': {'count': 33},\n",
       "   'post_type': 'copy',\n",
       "   'reposts': {'count': 0},\n",
       "   'text': '',\n",
       "   'to_id': 20113344},\n",
       "  {'attachment': {'photo': {'access_key': '77d5a9fb018a48adc8',\n",
       "     'aid': -7,\n",
       "     'created': 1460483297,\n",
       "     'height': 847,\n",
       "     'owner_id': 193537640,\n",
       "     'pid': 412554393,\n",
       "     'post_id': 505,\n",
       "     'src': 'https://pp.userapi.com/c633728/v633728376/27077/qjSZFWdSRww.jpg',\n",
       "     'src_big': 'https://pp.userapi.com/c633728/v633728376/27078/Lc8O-AGOZ0s.jpg',\n",
       "     'src_small': 'https://pp.userapi.com/c633728/v633728376/27076/ESlTigkFhx4.jpg',\n",
       "     'src_xbig': 'https://pp.userapi.com/c633728/v633728376/27079/-GCKVxNPjIM.jpg',\n",
       "     'src_xxbig': 'https://pp.userapi.com/c633728/v633728376/2707a/wIAmkCNoY80.jpg',\n",
       "     'text': '',\n",
       "     'width': 1280},\n",
       "    'type': 'photo'},\n",
       "   'attachments': [{'photo': {'access_key': '77d5a9fb018a48adc8',\n",
       "      'aid': -7,\n",
       "      'created': 1460483297,\n",
       "      'height': 847,\n",
       "      'owner_id': 193537640,\n",
       "      'pid': 412554393,\n",
       "      'post_id': 505,\n",
       "      'src': 'https://pp.userapi.com/c633728/v633728376/27077/qjSZFWdSRww.jpg',\n",
       "      'src_big': 'https://pp.userapi.com/c633728/v633728376/27078/Lc8O-AGOZ0s.jpg',\n",
       "      'src_small': 'https://pp.userapi.com/c633728/v633728376/27076/ESlTigkFhx4.jpg',\n",
       "      'src_xbig': 'https://pp.userapi.com/c633728/v633728376/27079/-GCKVxNPjIM.jpg',\n",
       "      'src_xxbig': 'https://pp.userapi.com/c633728/v633728376/2707a/wIAmkCNoY80.jpg',\n",
       "      'text': '',\n",
       "      'width': 1280},\n",
       "     'type': 'photo'}],\n",
       "   'comments': {'count': 3},\n",
       "   'copy_owner_id': 193537640,\n",
       "   'copy_post_date': 0,\n",
       "   'copy_post_id': 0,\n",
       "   'copy_post_type': 'photo',\n",
       "   'copy_text': 'Какие прекрасные!',\n",
       "   'date': 1486998461,\n",
       "   'from_id': 20113344,\n",
       "   'id': 889,\n",
       "   'likes': {'count': 23},\n",
       "   'post_type': 'copy',\n",
       "   'reposts': {'count': 0},\n",
       "   'text': '',\n",
       "   'to_id': 20113344},\n",
       "  {'attachment': {'photo': {'access_key': 'c28f8b01742c0b36ef',\n",
       "     'aid': -7,\n",
       "     'created': 1469321424,\n",
       "     'height': 850,\n",
       "     'owner_id': 12886487,\n",
       "     'pid': 423635096,\n",
       "     'src': 'https://pp.userapi.com/c636324/v636324487/17259/XIBFJr6-yOk.jpg',\n",
       "     'src_big': 'https://pp.userapi.com/c636324/v636324487/1725a/phH171sxQvo.jpg',\n",
       "     'src_small': 'https://pp.userapi.com/c636324/v636324487/17258/G1p0MxhGquw.jpg',\n",
       "     'src_xbig': 'https://pp.userapi.com/c636324/v636324487/1725b/9W6A88qN09g.jpg',\n",
       "     'src_xxbig': 'https://pp.userapi.com/c636324/v636324487/1725c/yZ48vGXK9Ys.jpg',\n",
       "     'text': '',\n",
       "     'width': 1280},\n",
       "    'type': 'photo'},\n",
       "   'attachments': [{'photo': {'access_key': 'c28f8b01742c0b36ef',\n",
       "      'aid': -7,\n",
       "      'created': 1469321424,\n",
       "      'height': 850,\n",
       "      'owner_id': 12886487,\n",
       "      'pid': 423635096,\n",
       "      'src': 'https://pp.userapi.com/c636324/v636324487/17259/XIBFJr6-yOk.jpg',\n",
       "      'src_big': 'https://pp.userapi.com/c636324/v636324487/1725a/phH171sxQvo.jpg',\n",
       "      'src_small': 'https://pp.userapi.com/c636324/v636324487/17258/G1p0MxhGquw.jpg',\n",
       "      'src_xbig': 'https://pp.userapi.com/c636324/v636324487/1725b/9W6A88qN09g.jpg',\n",
       "      'src_xxbig': 'https://pp.userapi.com/c636324/v636324487/1725c/yZ48vGXK9Ys.jpg',\n",
       "      'text': '',\n",
       "      'width': 1280},\n",
       "     'type': 'photo'},\n",
       "    {'photo': {'access_key': 'd2f2d21c565a85a507',\n",
       "      'aid': -7,\n",
       "      'created': 1469321422,\n",
       "      'height': 853,\n",
       "      'owner_id': 12886487,\n",
       "      'pid': 423635093,\n",
       "      'src': 'https://pp.userapi.com/c636324/v636324487/1723d/DmrHgDLZ_Js.jpg',\n",
       "      'src_big': 'https://pp.userapi.com/c636324/v636324487/1723e/a4TOpnOm2EU.jpg',\n",
       "      'src_small': 'https://pp.userapi.com/c636324/v636324487/1723c/lG7jIkISZX4.jpg',\n",
       "      'src_xbig': 'https://pp.userapi.com/c636324/v636324487/1723f/bcpELrwsBmU.jpg',\n",
       "      'src_xxbig': 'https://pp.userapi.com/c636324/v636324487/17240/FRIgIIk_XNc.jpg',\n",
       "      'text': '',\n",
       "      'width': 1280},\n",
       "     'type': 'photo'},\n",
       "    {'photo': {'access_key': '48a36967ea79b6f06b',\n",
       "      'aid': -7,\n",
       "      'created': 1469321425,\n",
       "      'height': 1365,\n",
       "      'owner_id': 12886487,\n",
       "      'pid': 423635097,\n",
       "      'src': 'https://pp.userapi.com/c636324/v636324487/17262/EP-_Is-OSOM.jpg',\n",
       "      'src_big': 'https://pp.userapi.com/c636324/v636324487/17263/319UxwMlk5w.jpg',\n",
       "      'src_small': 'https://pp.userapi.com/c636324/v636324487/17261/AJXHEfgP1dQ.jpg',\n",
       "      'src_xbig': 'https://pp.userapi.com/c636324/v636324487/17264/UBknuFhihDw.jpg',\n",
       "      'src_xxbig': 'https://pp.userapi.com/c636324/v636324487/17265/g8Htt01KAR4.jpg',\n",
       "      'src_xxxbig': 'https://pp.userapi.com/c636324/v636324487/17266/kc-DekKq7os.jpg',\n",
       "      'text': '',\n",
       "      'width': 2048},\n",
       "     'type': 'photo'},\n",
       "    {'photo': {'access_key': '6a5e9a2ce3f22d3853',\n",
       "      'aid': -7,\n",
       "      'created': 1469321425,\n",
       "      'height': 850,\n",
       "      'owner_id': 12886487,\n",
       "      'pid': 423635098,\n",
       "      'src': 'https://pp.userapi.com/c636324/v636324487/1726c/WreATTGOJ9Y.jpg',\n",
       "      'src_big': 'https://pp.userapi.com/c636324/v636324487/1726d/i5ZyqyPsnI8.jpg',\n",
       "      'src_small': 'https://pp.userapi.com/c636324/v636324487/1726b/ZL70HLmgtYw.jpg',\n",
       "      'src_xbig': 'https://pp.userapi.com/c636324/v636324487/1726e/0-1IXGg0rB0.jpg',\n",
       "      'src_xxbig': 'https://pp.userapi.com/c636324/v636324487/1726f/EkYi2KmIWwg.jpg',\n",
       "      'text': '',\n",
       "      'width': 1280},\n",
       "     'type': 'photo'},\n",
       "    {'photo': {'access_key': 'ac677e2979f456743b',\n",
       "      'aid': -7,\n",
       "      'created': 1469321422,\n",
       "      'height': 853,\n",
       "      'owner_id': 12886487,\n",
       "      'pid': 423635094,\n",
       "      'src': 'https://pp.userapi.com/c636324/v636324487/17246/ZNHVHIjAI2A.jpg',\n",
       "      'src_big': 'https://pp.userapi.com/c636324/v636324487/17247/VG4J2VWnOYw.jpg',\n",
       "      'src_small': 'https://pp.userapi.com/c636324/v636324487/17245/bYRsV5BOyv0.jpg',\n",
       "      'src_xbig': 'https://pp.userapi.com/c636324/v636324487/17248/M9VBCrcuC_Y.jpg',\n",
       "      'src_xxbig': 'https://pp.userapi.com/c636324/v636324487/17249/RlXzkxS6Izo.jpg',\n",
       "      'text': '',\n",
       "      'width': 1280},\n",
       "     'type': 'photo'}],\n",
       "   'comments': {'count': 2},\n",
       "   'copy_owner_id': 12886487,\n",
       "   'copy_post_date': 1485867602,\n",
       "   'copy_post_id': 8853,\n",
       "   'copy_post_type': 'post',\n",
       "   'copy_text': 'Никита уникален',\n",
       "   'date': 1485876154,\n",
       "   'from_id': 20113344,\n",
       "   'id': 884,\n",
       "   'likes': {'count': 6},\n",
       "   'post_type': 'copy',\n",
       "   'reposts': {'count': 0},\n",
       "   'text': 'РЕПЕТИТОРСТВО ПО РУССКОМУ ЯЗЫКУ (да, это свершилось)<br><br>Дорогие все,<br><br>я намереваюсь заняться репетиторством. Отчасти из-за желания вести более глубокую просвещенческую работу, но не только. Я также надеюсь обеспечить себе заработок на кофе с соевым молоком, потому что всё равно я большего в Москве на такие деньги не куплю. И вот что я предлагаю.<br><br>😊 Что я могу:<br>• готовить к различным экзаменам по русскому языку (ЕГЭ, ОГЭ, вступительные, переводные в школе); <br>• готовить к олимпиадам по русскому языку (Всеросс, Высшая проба, другие олимпиады);<br>• помогать с освоением школьной программы по русскому языку, вытягивать из состояния «я ничего не понимаю в этом вашем русском»;<br>• заниматься «углублённым русским», расширять лингвистический кругозор;<br>• проводить интенсивы по отдельным темам — например, за короткий курс научить расставлять знаки препинания в простых предложениях.<br><br>⛔ Я не занимаюсь преподаванием русского как иностранного, литературы и литературоведения, а также не работаю с учащимися начальной школы.<br><br>✨ Мои особенности:<br>1. Лингвистический бэкграунд. Профильное образование позволяет смотреть дальше тематических планов и глубже понимать специфику предмета.<br>2. Систематичность знаний. Я всегда использую схемы, таблицы и графики для объяснения материала, обращаю внимание на системные взаимосвязи правил и теорий.<br>3. Индивидуальный подход к каждому. Если я буду объяснять морфологию биологам, то схема морфологического разбора будет похожа на схему описания особи биологического вида. Тексты должны быть про то, что интересно ученику или ученице!<br>4. Живой и современный стиль преподавания. Мы будем постоянно обращаться к современным текстам и повседневной речи (если хотите, поразбираем мемы с точки зрения лингвистики).<br>5. Уважительное отношение к учащимся как к равным. Я убеждён, что образование — это в первую очередь хорошее человеческое общение, которое должно приносить удовольствие.<br><br>📋 Немного обо мне. <br>Я родом из Тюмени, окончил среднюю школу №73 «Лира», старшие классы учился в Академической гимназии при Тюменском государственном университете. Призёр и победитель олимпиад по русскому языку и лингвистике, в том числе дважды призёр заключительного этапа ВОШ по русскому языку. На ЕГЭ по русскому языку получил 92 балла. <br>Сейчас я студент Школы лингвистики НИУ ВШЭ, стажёр-исследователь лаборатории нейролингвистики. Планирую в дальнейшем строить научную карьеру.<br><br>⚠ Какие есть условия?<br>• цена занятий — по индивидуальной договорённости, от 800-1000 рублей за 60 минут;<br>• занятия у вас дома / в тихом общественном месте;<br>• первое занятие — бесплатно;<br>• учебные материалы (пособия, упражнения) я предоставляю;<br>• ограниченный набор: из-за плотного расписания не могу взять много людей на постоянной основе.<br><br>❗ Куда обращаться насчёт занятий?<br>✉ Пишите, пожалуйста, в сообщения ВКонтакте или на почту nz.lingvo@gmail.com',\n",
       "   'to_id': 20113344},\n",
       "  {'attachment': {'photo': {'access_key': 'a4648481b4cc97dad4',\n",
       "     'aid': -7,\n",
       "     'created': 1485255873,\n",
       "     'height': 1920,\n",
       "     'owner_id': 234276068,\n",
       "     'pid': 456239383,\n",
       "     'post_id': 3130,\n",
       "     'src': 'https://pp.userapi.com/c639920/v639920068/2374/IrgSinYLgeI.jpg',\n",
       "     'src_big': 'https://pp.userapi.com/c639920/v639920068/2375/pi54ZpY_7N4.jpg',\n",
       "     'src_small': 'https://pp.userapi.com/c639920/v639920068/2373/a6t1jBfWHTc.jpg',\n",
       "     'src_xbig': 'https://pp.userapi.com/c639920/v639920068/2376/RXsXSgSmTko.jpg',\n",
       "     'src_xxbig': 'https://pp.userapi.com/c639920/v639920068/2377/7ZwfgRC1MQY.jpg',\n",
       "     'src_xxxbig': 'https://pp.userapi.com/c639920/v639920068/2378/-_RSstNXG90.jpg',\n",
       "     'text': '',\n",
       "     'width': 2560},\n",
       "    'type': 'photo'},\n",
       "   'attachments': [{'photo': {'access_key': 'a4648481b4cc97dad4',\n",
       "      'aid': -7,\n",
       "      'created': 1485255873,\n",
       "      'height': 1920,\n",
       "      'owner_id': 234276068,\n",
       "      'pid': 456239383,\n",
       "      'post_id': 3130,\n",
       "      'src': 'https://pp.userapi.com/c639920/v639920068/2374/IrgSinYLgeI.jpg',\n",
       "      'src_big': 'https://pp.userapi.com/c639920/v639920068/2375/pi54ZpY_7N4.jpg',\n",
       "      'src_small': 'https://pp.userapi.com/c639920/v639920068/2373/a6t1jBfWHTc.jpg',\n",
       "      'src_xbig': 'https://pp.userapi.com/c639920/v639920068/2376/RXsXSgSmTko.jpg',\n",
       "      'src_xxbig': 'https://pp.userapi.com/c639920/v639920068/2377/7ZwfgRC1MQY.jpg',\n",
       "      'src_xxxbig': 'https://pp.userapi.com/c639920/v639920068/2378/-_RSstNXG90.jpg',\n",
       "      'text': '',\n",
       "      'width': 2560},\n",
       "     'type': 'photo'}],\n",
       "   'comments': {'count': 0},\n",
       "   'copy_owner_id': 234276068,\n",
       "   'copy_post_date': 1485255945,\n",
       "   'copy_post_id': 3130,\n",
       "   'copy_post_type': 'post',\n",
       "   'copy_text': 'Как все-таки я завидую нашим студентам',\n",
       "   'date': 1485286483,\n",
       "   'from_id': 20113344,\n",
       "   'id': 883,\n",
       "   'likes': {'count': 15},\n",
       "   'post_type': 'copy',\n",
       "   'reposts': {'count': 0},\n",
       "   'text': '',\n",
       "   'to_id': 20113344},\n",
       "  {'attachment': {'photo': {'access_key': 'd77eadf909faf7bf31',\n",
       "     'aid': -7,\n",
       "     'created': 1484754647,\n",
       "     'height': 667,\n",
       "     'owner_id': -25185723,\n",
       "     'pid': 456239184,\n",
       "     'post_id': 1429,\n",
       "     'src': 'https://pp.userapi.com/c636229/v636229378/524ce/lNjQA6vJ7_E.jpg',\n",
       "     'src_big': 'https://pp.userapi.com/c636229/v636229378/524cf/3_VNB29qhdU.jpg',\n",
       "     'src_small': 'https://pp.userapi.com/c636229/v636229378/524cd/q0Au4Z0YPmY.jpg',\n",
       "     'src_xbig': 'https://pp.userapi.com/c636229/v636229378/524d0/9fnTGUmC4GE.jpg',\n",
       "     'src_xxbig': 'https://pp.userapi.com/c636229/v636229378/524d1/6kgffBJzF9o.jpg',\n",
       "     'text': '',\n",
       "     'user_id': 100,\n",
       "     'width': 1000},\n",
       "    'type': 'photo'},\n",
       "   'attachments': [{'photo': {'access_key': 'd77eadf909faf7bf31',\n",
       "      'aid': -7,\n",
       "      'created': 1484754647,\n",
       "      'height': 667,\n",
       "      'owner_id': -25185723,\n",
       "      'pid': 456239184,\n",
       "      'post_id': 1429,\n",
       "      'src': 'https://pp.userapi.com/c636229/v636229378/524ce/lNjQA6vJ7_E.jpg',\n",
       "      'src_big': 'https://pp.userapi.com/c636229/v636229378/524cf/3_VNB29qhdU.jpg',\n",
       "      'src_small': 'https://pp.userapi.com/c636229/v636229378/524cd/q0Au4Z0YPmY.jpg',\n",
       "      'src_xbig': 'https://pp.userapi.com/c636229/v636229378/524d0/9fnTGUmC4GE.jpg',\n",
       "      'src_xxbig': 'https://pp.userapi.com/c636229/v636229378/524d1/6kgffBJzF9o.jpg',\n",
       "      'text': '',\n",
       "      'user_id': 100,\n",
       "      'width': 1000},\n",
       "     'type': 'photo'}],\n",
       "   'comments': {'count': 0},\n",
       "   'copy_owner_id': -25185723,\n",
       "   'copy_post_date': 1484754647,\n",
       "   'copy_post_id': 1429,\n",
       "   'copy_post_type': 'post',\n",
       "   'date': 1484757828,\n",
       "   'from_id': 20113344,\n",
       "   'id': 882,\n",
       "   'likes': {'count': 1},\n",
       "   'post_type': 'copy',\n",
       "   'reposts': {'count': 0},\n",
       "   'text': '#анонс@hsehistory <br><br>Уже завтра в 17:00 состоится доклад И.М. Савельевой \"Историческая наука в XXI веке\"! Кроме того, что Ирина Максимовна является выдающимся специалистом по теории и методологии истории, она также изучает, как мы знаем, помним и понимаем наше прошлое. Если вам интересно узнать, что происходит с исторической наукой и как она развивается - рекомендуем. К тому же, сами планируем там присутствовать - так что, для остальных обязательно выложим небольшой отчет после.<br><br>Мероприятие состоится по адресу: ул. Мясницкая 20, ауд. 311. Если вы не из НИУ ВШЭ, то обязательно (!!!) напишите Сергею Матвееву (smatveev@hse.ru) для заказа пропуска.',\n",
       "   'to_id': 20113344},\n",
       "  {'comments': {'count': 0},\n",
       "   'date': 1484670645,\n",
       "   'from_id': 20113344,\n",
       "   'id': 881,\n",
       "   'likes': {'count': 28},\n",
       "   'post_type': 'post',\n",
       "   'reposts': {'count': 0},\n",
       "   'text': '== Разговоры в моей семье == <br>Сын: Ты спал сегодня днем? <br>Младший сын: Нет. (пауза) Но я зевал!',\n",
       "   'to_id': 20113344},\n",
       "  {'attachment': {'type': 'video',\n",
       "    'video': {'access_key': 'e990b856ccb09969c5',\n",
       "     'date': 1484564674,\n",
       "     'description': 'The Fifth Element -vs- Ludmila Zykina  <br>Фильм Пятый элемент (1997),  песню \"Течет река Волга\" исполняет народная артистка СССР Людмила Георгиевна Зыкина.',\n",
       "     'duration': 57,\n",
       "     'image': 'https://pp.userapi.com/c628524/u45106449/video/l_a8229724.jpg',\n",
       "     'image_big': 'https://pp.userapi.com/c628524/u45106449/video/l_a8229724.jpg',\n",
       "     'image_small': 'https://pp.userapi.com/c628524/u45106449/video/s_1ee7bba6.jpg',\n",
       "     'owner_id': 16314386,\n",
       "     'platform': 'YouTube',\n",
       "     'title': 'The Fifth Element -vs- Ludmila Zykina',\n",
       "     'vid': 456239070,\n",
       "     'views': 650}},\n",
       "   'attachments': [{'type': 'video',\n",
       "     'video': {'access_key': 'e990b856ccb09969c5',\n",
       "      'date': 1484564674,\n",
       "      'description': 'The Fifth Element -vs- Ludmila Zykina  <br>Фильм Пятый элемент (1997),  песню \"Течет река Волга\" исполняет народная артистка СССР Людмила Георгиевна Зыкина.',\n",
       "      'duration': 57,\n",
       "      'image': 'https://pp.userapi.com/c628524/u45106449/video/l_a8229724.jpg',\n",
       "      'image_big': 'https://pp.userapi.com/c628524/u45106449/video/l_a8229724.jpg',\n",
       "      'image_small': 'https://pp.userapi.com/c628524/u45106449/video/s_1ee7bba6.jpg',\n",
       "      'owner_id': 16314386,\n",
       "      'platform': 'YouTube',\n",
       "      'title': 'The Fifth Element -vs- Ludmila Zykina',\n",
       "      'vid': 456239070,\n",
       "      'views': 650}}],\n",
       "   'comments': {'count': 0},\n",
       "   'copy_owner_id': 16314386,\n",
       "   'copy_post_date': 1484564673,\n",
       "   'copy_post_id': 11372,\n",
       "   'copy_post_type': 'post',\n",
       "   'date': 1484670418,\n",
       "   'from_id': 20113344,\n",
       "   'id': 880,\n",
       "   'likes': {'count': 1},\n",
       "   'post_type': 'copy',\n",
       "   'reposts': {'count': 0},\n",
       "   'text': '',\n",
       "   'to_id': 20113344},\n",
       "  {'attachment': {'type': 'video',\n",
       "    'video': {'access_key': '87b3782b5faf3dbf24',\n",
       "     'date': 1484167268,\n",
       "     'description': 'Трейлер лучшего советского хоррора',\n",
       "     'duration': 76,\n",
       "     'image': 'https://pp.userapi.com/c637625/u6482365/video/l_08056fda.jpg',\n",
       "     'image_big': 'https://pp.userapi.com/c637625/u6482365/video/l_08056fda.jpg',\n",
       "     'image_small': 'https://pp.userapi.com/c637625/u6482365/video/s_0361c034.jpg',\n",
       "     'image_xbig': 'https://pp.userapi.com/c637625/u6482365/video/y_106e76bf.jpg',\n",
       "     'owner_id': 16314386,\n",
       "     'platform': 'YouTube',\n",
       "     'title': 'Ирония судьбы. Horror version',\n",
       "     'vid': 456239069,\n",
       "     'views': 1303}},\n",
       "   'attachments': [{'type': 'video',\n",
       "     'video': {'access_key': '87b3782b5faf3dbf24',\n",
       "      'date': 1484167268,\n",
       "      'description': 'Трейлер лучшего советского хоррора',\n",
       "      'duration': 76,\n",
       "      'image': 'https://pp.userapi.com/c637625/u6482365/video/l_08056fda.jpg',\n",
       "      'image_big': 'https://pp.userapi.com/c637625/u6482365/video/l_08056fda.jpg',\n",
       "      'image_small': 'https://pp.userapi.com/c637625/u6482365/video/s_0361c034.jpg',\n",
       "      'image_xbig': 'https://pp.userapi.com/c637625/u6482365/video/y_106e76bf.jpg',\n",
       "      'owner_id': 16314386,\n",
       "      'platform': 'YouTube',\n",
       "      'title': 'Ирония судьбы. Horror version',\n",
       "      'vid': 456239069,\n",
       "      'views': 1303}}],\n",
       "   'comments': {'count': 0},\n",
       "   'copy_owner_id': 16314386,\n",
       "   'copy_post_date': 1484167267,\n",
       "   'copy_post_id': 11355,\n",
       "   'copy_post_type': 'post',\n",
       "   'copy_text': 'Да, мне так больше нравится.',\n",
       "   'date': 1484175837,\n",
       "   'from_id': 20113344,\n",
       "   'id': 879,\n",
       "   'likes': {'count': 7},\n",
       "   'post_type': 'copy',\n",
       "   'reposts': {'count': 0},\n",
       "   'text': '',\n",
       "   'to_id': 20113344},\n",
       "  {'comments': {'count': 0},\n",
       "   'copy_owner_id': 91518935,\n",
       "   'copy_post_date': 1483270444,\n",
       "   'copy_post_id': 6831,\n",
       "   'copy_post_type': 'post',\n",
       "   'copy_text': 'Вот да.',\n",
       "   'date': 1483285152,\n",
       "   'from_id': 20113344,\n",
       "   'id': 877,\n",
       "   'likes': {'count': 2},\n",
       "   'post_type': 'copy',\n",
       "   'reposts': {'count': 0},\n",
       "   'text': '#prayforIstanbul',\n",
       "   'to_id': 20113344},\n",
       "  {'attachment': {'photo': {'access_key': '2d79cadf226dce4903',\n",
       "     'aid': -7,\n",
       "     'created': 1483085651,\n",
       "     'height': 292,\n",
       "     'owner_id': 20113344,\n",
       "     'pid': 456239017,\n",
       "     'post_id': 876,\n",
       "     'src': 'https://pp.userapi.com/c626327/v626327344/3e168/7X5z6-GtY1A.jpg',\n",
       "     'src_big': 'https://pp.userapi.com/c626327/v626327344/3e169/8Eki5dZ7wUo.jpg',\n",
       "     'src_small': 'https://pp.userapi.com/c626327/v626327344/3e167/VZSHQLwLLZk.jpg',\n",
       "     'text': '',\n",
       "     'width': 412},\n",
       "    'type': 'photo'},\n",
       "   'attachments': [{'photo': {'access_key': '2d79cadf226dce4903',\n",
       "      'aid': -7,\n",
       "      'created': 1483085651,\n",
       "      'height': 292,\n",
       "      'owner_id': 20113344,\n",
       "      'pid': 456239017,\n",
       "      'post_id': 876,\n",
       "      'src': 'https://pp.userapi.com/c626327/v626327344/3e168/7X5z6-GtY1A.jpg',\n",
       "      'src_big': 'https://pp.userapi.com/c626327/v626327344/3e169/8Eki5dZ7wUo.jpg',\n",
       "      'src_small': 'https://pp.userapi.com/c626327/v626327344/3e167/VZSHQLwLLZk.jpg',\n",
       "      'text': '',\n",
       "      'width': 412},\n",
       "     'type': 'photo'}],\n",
       "   'comments': {'count': 0},\n",
       "   'date': 1483085654,\n",
       "   'from_id': 20113344,\n",
       "   'id': 876,\n",
       "   'likes': {'count': 14},\n",
       "   'post_type': 'post',\n",
       "   'reposts': {'count': 0},\n",
       "   'text': '== Разговоры в моей семье == <br>Мама (=бабушка): Покой нам только снится! <br>Сын: И кусает, как волчица!',\n",
       "   'to_id': 20113344},\n",
       "  {'attachment': {'link': {'description': '',\n",
       "     'image_big': 'https://pp.userapi.com/c636623/v636623504/3a3de/DHY6jGqCguA.jpg',\n",
       "     'image_src': 'https://pp.userapi.com/c636623/v636623504/3a3dc/VhH4Gu_URNQ.jpg',\n",
       "     'target': 'external',\n",
       "     'title': 'Слово — не то, чем кажется // Лингвисты прощают нас за орехи, кружки и рубашки',\n",
       "     'url': 'http://kot.sh/statya/2215/slovo-ne-chem-kazhetsya'},\n",
       "    'type': 'link'},\n",
       "   'attachments': [{'link': {'description': '',\n",
       "      'image_big': 'https://pp.userapi.com/c636623/v636623504/3a3de/DHY6jGqCguA.jpg',\n",
       "      'image_src': 'https://pp.userapi.com/c636623/v636623504/3a3dc/VhH4Gu_URNQ.jpg',\n",
       "      'target': 'external',\n",
       "      'title': 'Слово — не то, чем кажется // Лингвисты прощают нас за орехи, кружки и рубашки',\n",
       "      'url': 'http://kot.sh/statya/2215/slovo-ne-chem-kazhetsya'},\n",
       "     'type': 'link'}],\n",
       "   'comments': {'count': 1},\n",
       "   'date': 1483014175,\n",
       "   'from_id': 20113344,\n",
       "   'id': 874,\n",
       "   'likes': {'count': 27},\n",
       "   'post_type': 'post',\n",
       "   'reposts': {'count': 3},\n",
       "   'text': '\"... А в Монголии любые ксероксы называются «кэнон», потому что туда первой пришла фирма Canon.\"<br>Это интервью Бориса Иомдина — прекрасный новогодний подарок!<br>UPD: не новогодний, оказалось это летнее интервью, но от этого не менее прекрасное!<br><br>http://kot.sh/statya/2215/slovo-ne-chem-kazhetsya',\n",
       "   'to_id': 20113344},\n",
       "  {'attachment': {'type': 'video',\n",
       "    'video': {'access_key': '11b0cce477106d2462',\n",
       "     'date': 1481201320,\n",
       "     'description': 'Ships Of Years Past is a stop-motion film about an old sea captain and his mystical final voyage, with original music by Jason Webley.    Корабли прошлых лет - кукольный фильм о старом капитане и его загадочном последнем плавании. Музыка к фильму написана Джейсоном Вэбли.',\n",
       "     'duration': 924,\n",
       "     'image': 'https://pp.userapi.com/c636820/u122848/video/l_92306322.jpg',\n",
       "     'image_big': 'https://pp.userapi.com/c636820/u122848/video/l_92306322.jpg',\n",
       "     'image_small': 'https://pp.userapi.com/c636820/u122848/video/s_453ce2c8.jpg',\n",
       "     'image_xbig': 'https://pp.userapi.com/c636820/u122848/video/y_c354a0a9.jpg',\n",
       "     'owner_id': 122848,\n",
       "     'platform': 'Vimeo',\n",
       "     'title': 'Ships Of Years Past / Корабли прошлых лет',\n",
       "     'vid': 456239021,\n",
       "     'views': 1554}},\n",
       "   'attachments': [{'type': 'video',\n",
       "     'video': {'access_key': '11b0cce477106d2462',\n",
       "      'date': 1481201320,\n",
       "      'description': 'Ships Of Years Past is a stop-motion film about an old sea captain and his mystical final voyage, with original music by Jason Webley.    Корабли прошлых лет - кукольный фильм о старом капитане и его загадочном последнем плавании. Музыка к фильму написана Джейсоном Вэбли.',\n",
       "      'duration': 924,\n",
       "      'image': 'https://pp.userapi.com/c636820/u122848/video/l_92306322.jpg',\n",
       "      'image_big': 'https://pp.userapi.com/c636820/u122848/video/l_92306322.jpg',\n",
       "      'image_small': 'https://pp.userapi.com/c636820/u122848/video/s_453ce2c8.jpg',\n",
       "      'image_xbig': 'https://pp.userapi.com/c636820/u122848/video/y_c354a0a9.jpg',\n",
       "      'owner_id': 122848,\n",
       "      'platform': 'Vimeo',\n",
       "      'title': 'Ships Of Years Past / Корабли прошлых лет',\n",
       "      'vid': 456239021,\n",
       "      'views': 1554}}],\n",
       "   'comments': {'count': 0},\n",
       "   'copy_owner_id': 122848,\n",
       "   'copy_post_date': 1481201320,\n",
       "   'copy_post_id': 531,\n",
       "   'copy_post_type': 'post',\n",
       "   'copy_text': 'О!',\n",
       "   'date': 1481543571,\n",
       "   'from_id': 20113344,\n",
       "   'id': 867,\n",
       "   'likes': {'count': 5},\n",
       "   'post_type': 'copy',\n",
       "   'reposts': {'count': 0},\n",
       "   'text': 'Выкладываю \"Корабли\" в открытый доступ. Всем приятного просмотра) <br>https://vimeo.com/141415172<br><br>Хочу еще раз поблагодарить каждого, кто участвовал в создании фильма, в первую очередь творческую группу: Васю Чиркова, Сашу Петчша, Игоря Хилова, Илью Юдовича, Алексея Балашова, Колю Антонова, Лизу Волковицкую, Руслана Земскова, Джейсона Вэбли и остальных музыкантов, <br>Катю Ведерникову, Артема Москалева, <br>волонтеров и студентов-практикантов, которых всех не перечислишь, студию Пчела и Марию Муат, Колледж №11, <br>всех прекрасных людей, которые помогли собрать бюджет на Кикстартере и Планете, в особенности Паоло Полеселло и Исмаила Ахметова, друзей и семью,<br>и конечно моих самых близких, Аню, Федю и Яшу, за ежедневную поддержку и вдохновение.',\n",
       "   'to_id': 20113344},\n",
       "  {'attachment': {'photo': {'access_key': '4eb8b7b55c64260c52',\n",
       "     'aid': -7,\n",
       "     'created': 1480018156,\n",
       "     'height': 540,\n",
       "     'owner_id': 16314386,\n",
       "     'pid': 456239042,\n",
       "     'post_id': 11129,\n",
       "     'src': 'https://pp.userapi.com/c638731/v638731386/1209c/TJN8go_frKE.jpg',\n",
       "     'src_big': 'https://pp.userapi.com/c638731/v638731386/1209d/QmBB06xpLNY.jpg',\n",
       "     'src_small': 'https://pp.userapi.com/c638731/v638731386/1209b/mo2KWrXx4Z8.jpg',\n",
       "     'src_xbig': 'https://pp.userapi.com/c638731/v638731386/1209e/LDDET4HvSjE.jpg',\n",
       "     'src_xxbig': 'https://pp.userapi.com/c638731/v638731386/1209f/pk97TmOe8J8.jpg',\n",
       "     'text': '',\n",
       "     'width': 1164},\n",
       "    'type': 'photo'},\n",
       "   'attachments': [{'photo': {'access_key': '4eb8b7b55c64260c52',\n",
       "      'aid': -7,\n",
       "      'created': 1480018156,\n",
       "      'height': 540,\n",
       "      'owner_id': 16314386,\n",
       "      'pid': 456239042,\n",
       "      'post_id': 11129,\n",
       "      'src': 'https://pp.userapi.com/c638731/v638731386/1209c/TJN8go_frKE.jpg',\n",
       "      'src_big': 'https://pp.userapi.com/c638731/v638731386/1209d/QmBB06xpLNY.jpg',\n",
       "      'src_small': 'https://pp.userapi.com/c638731/v638731386/1209b/mo2KWrXx4Z8.jpg',\n",
       "      'src_xbig': 'https://pp.userapi.com/c638731/v638731386/1209e/LDDET4HvSjE.jpg',\n",
       "      'src_xxbig': 'https://pp.userapi.com/c638731/v638731386/1209f/pk97TmOe8J8.jpg',\n",
       "      'text': '',\n",
       "      'width': 1164},\n",
       "     'type': 'photo'}],\n",
       "   'comments': {'count': 0},\n",
       "   'copy_owner_id': 16314386,\n",
       "   'copy_post_date': 1480018158,\n",
       "   'copy_post_id': 11129,\n",
       "   'copy_post_type': 'post',\n",
       "   'date': 1480525342,\n",
       "   'from_id': 20113344,\n",
       "   'id': 866,\n",
       "   'likes': {'count': 17},\n",
       "   'post_type': 'copy',\n",
       "   'reposts': {'count': 1},\n",
       "   'text': '',\n",
       "   'to_id': 20113344},\n",
       "  {'attachment': {'link': {'description': 'Инопланетяне общаются с лингвистами Однажды на Землю прибывают инопланетяне: 12 гигантских космических кораблей зависают в считаных метрах от земной поверхности в разных точках планеты. Один достается американскому штату Монтана. Никаких действий они вроде бы не предпринимают, от чего всем',\n",
       "     'image_big': 'https://pp.userapi.com/c626723/v626723941/38c00/KtKQy8olc2g.jpg',\n",
       "     'image_src': 'https://pp.userapi.com/c626723/v626723941/38bfe/oOR-1TgOlRo.jpg',\n",
       "     'target': 'external',\n",
       "     'title': 'Рецензия на фильм Прибытие',\n",
       "     'url': 'http://www.afisha.ru/movie/221267/review/1018788/'},\n",
       "    'type': 'link'},\n",
       "   'attachments': [{'link': {'description': 'Инопланетяне общаются с лингвистами Однажды на Землю прибывают инопланетяне: 12 гигантских космических кораблей зависают в считаных метрах от земной поверхности в разных точках планеты. Один достается американскому штату Монтана. Никаких действий они вроде бы не предпринимают, от чего всем',\n",
       "      'image_big': 'https://pp.userapi.com/c626723/v626723941/38c00/KtKQy8olc2g.jpg',\n",
       "      'image_src': 'https://pp.userapi.com/c626723/v626723941/38bfe/oOR-1TgOlRo.jpg',\n",
       "      'target': 'external',\n",
       "      'title': 'Рецензия на фильм Прибытие',\n",
       "      'url': 'http://www.afisha.ru/movie/221267/review/1018788/'},\n",
       "     'type': 'link'}],\n",
       "   'comments': {'count': 1},\n",
       "   'date': 1478882229,\n",
       "   'from_id': 20113344,\n",
       "   'id': 864,\n",
       "   'likes': {'count': 15},\n",
       "   'post_type': 'post',\n",
       "   'reposts': {'count': 0},\n",
       "   'text': '\"Главные люди на свете — это лингвисты\" (http://www.afisha.ru/movie/221267/review/1018788/)',\n",
       "   'to_id': 20113344}]}"
      ]
     },
     "execution_count": 3,
     "metadata": {},
     "output_type": "execute_result"
    }
   ],
   "source": [
    "import json\n",
    "data = json.loads(result) \n",
    "data"
   ]
  },
  {
   "cell_type": "code",
   "execution_count": 6,
   "metadata": {
    "collapsed": false
   },
   "outputs": [
    {
     "data": {
      "text/plain": [
       "[8, 9, 138, 22, 25, 38, 33, 23, 6, 15, 1, 28, 1, 7, 2, 14, 27, 5, 17, 15]"
      ]
     },
     "execution_count": 6,
     "metadata": {},
     "output_type": "execute_result"
    }
   ],
   "source": [
    "likes = [text['likes']['count'] for text in data['response'][1:]]\n",
    "likes"
   ]
  },
  {
   "cell_type": "code",
   "execution_count": 7,
   "metadata": {
    "collapsed": false
   },
   "outputs": [
    {
     "data": {
      "text/plain": [
       "[0, 3, 0, 0, 0, 0, 16, 3, 2, 0, 0, 0, 0, 0, 0, 0, 1, 0, 0, 1]"
      ]
     },
     "execution_count": 7,
     "metadata": {},
     "output_type": "execute_result"
    }
   ],
   "source": [
    "comments = [text['comments']['count'] for text in data['response'][1:]]\n",
    "comments"
   ]
  },
  {
   "cell_type": "code",
   "execution_count": 8,
   "metadata": {
    "collapsed": false
   },
   "outputs": [
    {
     "data": {
      "text/plain": [
       "[7, 1, 55, 0, 0, 0, 0, 0, 0, 0, 0, 0, 0, 0, 0, 0, 3, 0, 1, 0]"
      ]
     },
     "execution_count": 8,
     "metadata": {},
     "output_type": "execute_result"
    }
   ],
   "source": [
    "reposts = [text['reposts']['count'] for text in data['response'][1:]]\n",
    "reposts"
   ]
  },
  {
   "cell_type": "markdown",
   "metadata": {},
   "source": [
    "# Matplotlib Intro\n",
    "\n",
    "Matplotlib - модуль для создания графиков. Описание с [официального сайта](https://matplotlib.org/index.html):\n",
    "\n",
    ">Matplotlib is a Python 2D plotting library which produces publication quality figures in a variety of hardcopy formats and interactive environments across platforms. Matplotlib can be used in Python scripts, the Python and IPython shell, the jupyter notebook, web application servers, and four graphical user interface toolkits.\n",
    "\n",
    "## Установка\n",
    "\n",
    "Матплотлиб нужно установить командой `pip install matplotlib`. \n",
    "\n",
    "Чтобы проверить, установился ли модуль, нужно написать `import matplotlib` в консоли питона."
   ]
  },
  {
   "cell_type": "code",
   "execution_count": 9,
   "metadata": {
    "collapsed": true
   },
   "outputs": [],
   "source": [
    "import matplotlib"
   ]
  },
  {
   "cell_type": "markdown",
   "metadata": {},
   "source": [
    "## Простые графики"
   ]
  },
  {
   "cell_type": "code",
   "execution_count": 11,
   "metadata": {
    "collapsed": false
   },
   "outputs": [],
   "source": [
    "import matplotlib.pyplot as plt"
   ]
  },
  {
   "cell_type": "markdown",
   "metadata": {},
   "source": [
    "Нарисуем какой-нибудь простой график. "
   ]
  },
  {
   "cell_type": "code",
   "execution_count": 13,
   "metadata": {
    "collapsed": false
   },
   "outputs": [
    {
     "data": {
      "image/png": "[encoded data removed]",
      "text/plain": [
       "<matplotlib.figure.Figure at 0x7f06f3aa3dd8>"
      ]
     },
     "metadata": {},
     "output_type": "display_data"
    }
   ],
   "source": [
    "# X и Y - координаты точек\n",
    "X = [1,   1.5, 2,   3, 5, 6]\n",
    "Y = [1.8, 1,   3.6, 2, 1, 3]\n",
    "\n",
    "plt.plot(X, Y) # рисуем график - последовательно соединяем точки с координатами из X и Y\n",
    "plt.show()"
   ]
  },
  {
   "cell_type": "markdown",
   "metadata": {},
   "source": [
    "Можем просто нарисовать точки - **scatterplot**. Кроме того, добавим нашему графику загловок и подписи осей:"
   ]
  },
  {
   "cell_type": "code",
   "execution_count": 20,
   "metadata": {
    "collapsed": false
   },
   "outputs": [
    {
     "data": {
      "image/png": "[encoded data removed]",
      "text/plain": [
       "<matplotlib.figure.Figure at 0x7f06f1723278>"
      ]
     },
     "metadata": {},
     "output_type": "display_data"
    }
   ],
   "source": [
    "plt.scatter(X,Y)  # рисуем точки\n",
    "plt.title(\"Просто точки\")\n",
    "plt.xlabel(\"Ось X\")\n",
    "plt.ylabel(\"Ось Y\")\n",
    "plt.show()"
   ]
  },
  {
   "cell_type": "markdown",
   "metadata": {},
   "source": [
    "С помощью `xlim` и `ylim` можно указать масштаб графика по оси X и Y:"
   ]
  },
  {
   "cell_type": "code",
   "execution_count": 22,
   "metadata": {
    "collapsed": false
   },
   "outputs": [
    {
     "data": {
      "image/png": "[encoded data removed]",
      "text/plain": [
       "<matplotlib.figure.Figure at 0x7f06f157c9b0>"
      ]
     },
     "metadata": {},
     "output_type": "display_data"
    }
   ],
   "source": [
    "plt.scatter(X, Y)\n",
    "plt.xlim(0,4)\n",
    "plt.ylim(0,2)\n",
    "plt.show()"
   ]
  },
  {
   "cell_type": "markdown",
   "metadata": {},
   "source": [
    "Когда мы рисуем точки, кроме координат в `plt.scatter()` можно передать параметры:\n",
    "\n",
    "* `s`: размер точки, по умолчанию 20;\n",
    "* `c`: цвет, по умолчанию 'b' - голубой;\n",
    "* `marker`: символ точки, по умолчанию 'o' - круглая точка.\n",
    "\n",
    "\n",
    "Список цветов можно посмотреть [тут](https://matplotlib.org/examples/color/named_colors.html), а маркеров - [тут](https://matplotlib.org/examples/lines_bars_and_markers/marker_reference.html)."
   ]
  },
  {
   "cell_type": "code",
   "execution_count": 30,
   "metadata": {
    "collapsed": false
   },
   "outputs": [
    {
     "data": {
      "image/png": "[encoded data removed]",
      "text/plain": [
       "<matplotlib.figure.Figure at 0x7f06f1299c50>"
      ]
     },
     "metadata": {},
     "output_type": "display_data"
    }
   ],
   "source": [
    "plt.scatter(X, Y, s=[20, 60, 30, 100, 60, 10], c='plum', marker='^')\n",
    "plt.show()"
   ]
  },
  {
   "cell_type": "markdown",
   "metadata": {},
   "source": [
    "В качестве размера и цвета можно задавать массивы с соответствующими значениями:"
   ]
  },
  {
   "cell_type": "code",
   "execution_count": 31,
   "metadata": {
    "collapsed": false
   },
   "outputs": [
    {
     "data": {
      "image/png": "[encoded data removed]",
      "text/plain": [
       "<matplotlib.figure.Figure at 0x7f06f12ade10>"
      ]
     },
     "metadata": {},
     "output_type": "display_data"
    }
   ],
   "source": [
    "size = [60, 70, 80, 90, 100, 130]\n",
    "colors = ['red', 'green', 'blue', 'black', 'yellow', 'brown']\n",
    "plt.scatter(X, Y, s=size, c=colors, marker='^')\n",
    "plt.show()"
   ]
  },
  {
   "cell_type": "markdown",
   "metadata": {},
   "source": [
    "Естественно, любой график можно сохранить в виде картинки на ваш компьютер в одном из доступных форматов: emf, eps, pdf, png, ps, raw, rgba, svg, svgz."
   ]
  },
  {
   "cell_type": "code",
   "execution_count": 32,
   "metadata": {
    "collapsed": true
   },
   "outputs": [],
   "source": [
    "plt.savefig('plot_with_colors.pdf')"
   ]
  },
  {
   "cell_type": "markdown",
   "metadata": {},
   "source": [
    "## ggplot\n",
    "\n",
    "Можно не задавать каждый параметр графика вручную, а использовать готовые стилевые шаблоны для графиков. Одним из популярных шаблонов является `ggplot`. \n",
    "\n",
    "Возьмем два набора точек - с координатами (X, Y) и (X2, Y2):"
   ]
  },
  {
   "cell_type": "code",
   "execution_count": 35,
   "metadata": {
    "collapsed": false
   },
   "outputs": [
    {
     "name": "stdout",
     "output_type": "stream",
     "text": [
      "[1, 1.5, 2, 3, 5, 6] [1.8, 1, 3.6, 2, 1, 3] [2, 3.0, 4, 6, 10, 12] [2.7, 1.5, 5.4, 3.0, 1.5, 4.5]\n"
     ]
    }
   ],
   "source": [
    "X2 = [i*2 for i in X]\n",
    "Y2 = [i*1.5 for i in Y]\n",
    "X3 = [i*0.5 for i in X]\n",
    "Y3 = [i*0.7 for i in Y]\n",
    "print(X, Y, X2, Y2)"
   ]
  },
  {
   "cell_type": "code",
   "execution_count": 36,
   "metadata": {
    "collapsed": false
   },
   "outputs": [
    {
     "data": {
      "image/png": "[encoded data removed]",
      "text/plain": [
       "<matplotlib.figure.Figure at 0x7f06f12dfac8>"
      ]
     },
     "metadata": {},
     "output_type": "display_data"
    }
   ],
   "source": [
    "from matplotlib import style  # добавляем стили\n",
    "style.use('ggplot')  # выбираем стиль ggplot\n",
    "\n",
    "plt.plot(X,Y)\n",
    "plt.plot(X2, Y2)\n",
    "plt.plot(X3, Y3)\n",
    "\n",
    "plt.title('График с ggplot')\n",
    "plt.ylabel('значения Y')\n",
    "plt.xlabel('значения X')\n",
    "\n",
    "plt.show()"
   ]
  },
  {
   "cell_type": "markdown",
   "metadata": {},
   "source": [
    "В `plot` так же как в `scatter` выше можно указывать разные параметры. Например, мы можем поменять цвет линии, ее ширину.  \n",
    "\n",
    "Кроме того мы можем добавить в график легенду. Для этого каждой линии нужно приписать `label`, а затем нарисовать легенду с помощью `legend()`:"
   ]
  },
  {
   "cell_type": "code",
   "execution_count": 37,
   "metadata": {
    "collapsed": false
   },
   "outputs": [
    {
     "data": {
      "image/png": "[encoded data removed]",
      "text/plain": [
       "<matplotlib.figure.Figure at 0x7f06f160d6d8>"
      ]
     },
     "metadata": {},
     "output_type": "display_data"
    }
   ],
   "source": [
    "plt.plot(X, Y,'g',label='зеленая линия', linewidth=5)\n",
    "plt.plot(X2, Y2,'c',label='голубая линия',linewidth=3)\n",
    "\n",
    "plt.title('График с ggplot')\n",
    "plt.ylabel('значения Y')\n",
    "plt.xlabel('значения X')\n",
    "\n",
    "plt.legend()\n",
    "\n",
    "plt.grid(True,color='orchid')  # а еще можно менять вид сетки\n",
    "\n",
    "plt.show()"
   ]
  },
  {
   "cell_type": "markdown",
   "metadata": {},
   "source": [
    "Соберем новый набор данных:"
   ]
  },
  {
   "cell_type": "code",
   "execution_count": 39,
   "metadata": {
    "collapsed": true
   },
   "outputs": [],
   "source": [
    "X = [1, 2, 3, 4, 5]\n",
    "Y = [11, 12, 13, 14, 15]\n",
    "\n",
    "X2 = [6, 7, 8, 9, 10]\n",
    "Y2 = [15, 14, 13, 12, 11]"
   ]
  },
  {
   "cell_type": "markdown",
   "metadata": {},
   "source": [
    "Мы можем нарисовать __столбчатую диаграмму__:"
   ]
  },
  {
   "cell_type": "code",
   "execution_count": 40,
   "metadata": {
    "collapsed": false
   },
   "outputs": [
    {
     "data": {
      "image/png": "[encoded data removed]",
      "text/plain": [
       "<matplotlib.figure.Figure at 0x7f06f159e1d0>"
      ]
     },
     "metadata": {},
     "output_type": "display_data"
    }
   ],
   "source": [
    "plt.bar(X, Y)\n",
    "plt.bar(X2, Y2, color='g')\n",
    "plt.show()"
   ]
  },
  {
   "cell_type": "markdown",
   "metadata": {},
   "source": [
    "Ну и наконец, график лайков, комментариев, репостов Владимира Владимировича."
   ]
  },
  {
   "cell_type": "code",
   "execution_count": 41,
   "metadata": {
    "collapsed": false
   },
   "outputs": [
    {
     "data": {
      "image/png": "[encoded data removed]",
      "text/plain": [
       "<matplotlib.figure.Figure at 0x7f06f15a1198>"
      ]
     },
     "metadata": {},
     "output_type": "display_data"
    }
   ],
   "source": [
    "X = range(len(likes))\n",
    "\n",
    "plt.plot(X, likes, 'g', label='лайки')\n",
    "plt.plot(X, comments, 'c', label='комменты')\n",
    "plt.plot(X, reposts, 'r', label='репосты')\n",
    "\n",
    "plt.title('Лайки, комменты, репосты на стене В. В. Файера')\n",
    "plt.ylabel('Количество')\n",
    "plt.xlabel('Записи по порядку')\n",
    "plt.legend()\n",
    "plt.show()"
   ]
  },
  {
   "cell_type": "markdown",
   "metadata": {},
   "source": [
    "## Пример\n",
    "\n",
    "Помните [файл](https://github.com/elmiram/2016learnpython/blob/master/data/Genproc.csv) с твитами генпрокуратуры? Попробуем создать графики на этом датасете. \n",
    "\n",
    "### Сколько твитов было в каждый месяц в 2013 году?"
   ]
  },
  {
   "cell_type": "code",
   "execution_count": 43,
   "metadata": {
    "collapsed": false
   },
   "outputs": [
    {
     "data": {
      "text/plain": [
       "{'01': 460,\n",
       " '02': 503,\n",
       " '03': 377,\n",
       " '04': 435,\n",
       " '05': 337,\n",
       " '06': 347,\n",
       " '07': 438,\n",
       " '08': 207}"
      ]
     },
     "execution_count": 43,
     "metadata": {},
     "output_type": "execute_result"
    }
   ],
   "source": [
    "from collections import Counter\n",
    "\n",
    "with open('data/Genproc.csv', 'r', encoding='utf-8') as f:\n",
    "    lines = f.readlines()\n",
    "    \n",
    "dates = Counter([line.split()[1][5:7] for line in lines if '2013-' in line])\n",
    "dates\n",
    "dates = dict(dates)\n",
    "dates"
   ]
  },
  {
   "cell_type": "code",
   "execution_count": 49,
   "metadata": {
    "collapsed": false
   },
   "outputs": [
    {
     "data": {
      "image/png": "[encoded data removed]",
      "text/plain": [
       "<matplotlib.figure.Figure at 0x7f06f0fa9a20>"
      ]
     },
     "metadata": {},
     "output_type": "display_data"
    }
   ],
   "source": [
    "months_labels = sorted(dates.keys())\n",
    "months = [i for i in range(len(months_labels))]\n",
    "twit_nums = [dates[key] for key in months_labels]\n",
    "\n",
    "plt.bar(months, twit_nums)\n",
    "plt.xticks(months, months_labels)\n",
    "plt.show()"
   ]
  },
  {
   "cell_type": "markdown",
   "metadata": {},
   "source": [
    "### Сколько Твитов было в каждый час в аккаунте Генпрокуратуры и Сколково?\n",
    "\n",
    "[Твиты сколково](https://github.com/elmiram/2016learnpython/blob/master/data/skolkovo_ru.csv)\n",
    "\n",
    "[Твиты прокуратуры](https://github.com/elmiram/2016learnpython/blob/master/data/Genproc.csv)"
   ]
  },
  {
   "cell_type": "code",
   "execution_count": 50,
   "metadata": {
    "collapsed": false
   },
   "outputs": [
    {
     "name": "stdout",
     "output_type": "stream",
     "text": [
      "['00', '01', '02', '03', '04', '05', '06', '07', '08', '09', '10', '11', '12', '13', '14', '15', '16', '17', '18', '19', '20', '21', '22', '23']\n"
     ]
    }
   ],
   "source": [
    "hours = ['{:02}'.format(i) for i in range(24)]\n",
    "print(hours)"
   ]
  },
  {
   "cell_type": "code",
   "execution_count": 51,
   "metadata": {
    "collapsed": false
   },
   "outputs": [
    {
     "name": "stdout",
     "output_type": "stream",
     "text": [
      "[0, 0, 0, 0, 0, 0, 0, 1, 1, 62, 255, 534, 430, 372, 396, 420, 448, 276, 28, 3, 1, 0, 0, 0]\n"
     ]
    }
   ],
   "source": [
    "hours_genproc = Counter([line.split()[2][:2] for line in lines])\n",
    "hours_genproc = [hours_genproc[hour] for hour in hours]\n",
    "print(hours_genproc)"
   ]
  },
  {
   "cell_type": "code",
   "execution_count": 52,
   "metadata": {
    "collapsed": false,
    "scrolled": true
   },
   "outputs": [
    {
     "name": "stdout",
     "output_type": "stream",
     "text": [
      "[7, 12, 0, 0, 0, 0, 0, 14, 13, 129, 158, 165, 319, 277, 207, 234, 293, 243, 211, 188, 66, 24, 10, 10]\n"
     ]
    }
   ],
   "source": [
    "with open('data/skolkovo_ru.csv', 'r', encoding='utf-8') as f2:\n",
    "    lines2 = f2.readlines()\n",
    "    \n",
    "hours_skolkovo = Counter([line.split()[2][:2] for line in lines2])\n",
    "hours_skolkovo = [hours_skolkovo[hour] for hour in hours]\n",
    "print(hours_skolkovo)"
   ]
  },
  {
   "cell_type": "code",
   "execution_count": 53,
   "metadata": {
    "collapsed": false
   },
   "outputs": [
    {
     "data": {
      "image/png": "[encoded data removed]",
      "text/plain": [
       "<matplotlib.figure.Figure at 0x7f06f0d2ab00>"
      ]
     },
     "metadata": {},
     "output_type": "display_data"
    }
   ],
   "source": [
    "plt.plot(range(len(hours)), hours_genproc, 'g', label='генпрокуратура')\n",
    "plt.plot(range(len(hours)), hours_skolkovo, 'c', label='сколково')\n",
    "\n",
    "plt.title('Твиты по часам')\n",
    "plt.ylabel('Количество твитов')\n",
    "plt.xlabel('Время')\n",
    "plt.xticks(range(len(hours)), hours)\n",
    "plt.legend()\n",
    "plt.show()"
   ]
  },
  {
   "cell_type": "markdown",
   "metadata": {},
   "source": [
    "## Задания\n",
    "\n",
    "1) Составьте список 10 аккаунтов, которые чаще всего ретвитил аккаунт Сколково. Ретвиты начинаются с RT, аккаунт автора указывается сразу после RT, например: `RT @sk_ru_live`. Наприсуйте столбчатую диаграмму, показывающую количество ретвитов из каждого найденного аккаунта.\n",
    "\n",
    "2) Составьте график длины твитов аккаунта Сколково (ретвиты не считать). На то же изображение добавьте такой же график, построенный по аккаунту генпрокуратуры.\n",
    "\n",
    "3) Обкачать стену (свою или Владимира Владимировича). Составить график, показывающий, как количество лайков зависит от длины записи."
   ]
  },
  {
   "cell_type": "code",
   "execution_count": 65,
   "metadata": {
    "collapsed": false
   },
   "outputs": [
    {
     "data": {
      "image/png": "[encoded data removed]",
      "text/plain": [
       "<matplotlib.figure.Figure at 0x7f06f0b8fa20>"
      ]
     },
     "metadata": {},
     "output_type": "display_data"
    }
   ],
   "source": [
    "lens = [len(text['text'])for text in data['response'][1:]]\n",
    "lens\n",
    "\n",
    "plt.scatter(likes, lens, c='c')\n",
    "plt.xlim(0,40)\n",
    "plt.show()"
   ]
  },
  {
   "cell_type": "code",
   "execution_count": null,
   "metadata": {
    "collapsed": true
   },
   "outputs": [],
   "source": []
  }
 ],
 "metadata": {
  "kernelspec": {
   "display_name": "Python 3",
   "language": "python",
   "name": "python3"
  },
  "language_info": {
   "codemirror_mode": {
    "name": "ipython",
    "version": 3
   },
   "file_extension": ".py",
   "mimetype": "text/x-python",
   "name": "python",
   "nbconvert_exporter": "python",
   "pygments_lexer": "ipython3",
   "version": "3.5.2"
  }
 },
 "nbformat": 4,
 "nbformat_minor": 1
}
